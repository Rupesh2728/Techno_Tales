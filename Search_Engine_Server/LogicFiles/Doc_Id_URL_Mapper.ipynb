{
 "cells": [
  {
   "cell_type": "code",
   "execution_count": 1,
   "metadata": {},
   "outputs": [
    {
     "name": "stdout",
     "output_type": "stream",
     "text": [
      "DocID mapping stored in ./IRDataset/JsonFiles/docId_mapper.json\n"
     ]
    }
   ],
   "source": [
    "import csv\n",
    "import json\n",
    "\n",
    "\n",
    "csv_file_path = './IRDataset/CSV/DataSet.csv'\n",
    "\n",
    "doc_id_mapper = {}\n",
    "current_doc_id = 0\n",
    "\n",
    "with open(csv_file_path, 'r', encoding='utf-8') as csv_file:\n",
    "    csv_reader = csv.DictReader(csv_file)\n",
    "    for row in csv_reader:\n",
    "        url = row['URL']\n",
    "        title = row['Title']\n",
    "        content = row['Content']\n",
    "\n",
    "        content_words = content.split()[:20]\n",
    "        first_20_words = ' '.join(content_words)\n",
    "\n",
    "        doc_id_mapper[current_doc_id] = {\n",
    "            'URL': url,\n",
    "            'Title': title,\n",
    "            'First_10_Words': first_20_words\n",
    "        }\n",
    "\n",
    "\n",
    "        current_doc_id += 1\n",
    "\n",
    "\n",
    "doc_id_mapper_file_path = './IRDataset/JsonFiles/docId_mapper.json'\n",
    "with open(doc_id_mapper_file_path, 'w') as json_file:\n",
    "    json.dump(doc_id_mapper, json_file, indent=2)\n",
    "\n",
    "print(f'DocID mapping stored in {doc_id_mapper_file_path}')\n"
   ]
  },
  {
   "cell_type": "code",
   "execution_count": null,
   "metadata": {},
   "outputs": [],
   "source": []
  }
 ],
 "metadata": {
  "kernelspec": {
   "display_name": "Python 3",
   "language": "python",
   "name": "python3"
  },
  "language_info": {
   "codemirror_mode": {
    "name": "ipython",
    "version": 3
   },
   "file_extension": ".py",
   "mimetype": "text/x-python",
   "name": "python",
   "nbconvert_exporter": "python",
   "pygments_lexer": "ipython3",
   "version": "3.10.12"
  }
 },
 "nbformat": 4,
 "nbformat_minor": 2
}
