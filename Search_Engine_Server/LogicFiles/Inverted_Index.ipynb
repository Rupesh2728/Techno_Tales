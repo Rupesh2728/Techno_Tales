{
 "cells": [
  {
   "cell_type": "code",
   "execution_count": null,
   "metadata": {},
   "outputs": [],
   "source": [
    "import pandas as pd\n",
    "import json\n",
    "from collections import Counter\n",
    "\n",
    "\n",
    "csv_file_path = 'ProcessedData.csv'\n",
    "df = pd.read_csv(csv_file_path)\n",
    "\n",
    "\n",
    "df_subset = df.head(100)\n",
    "\n",
    "content_lemmas_list = df_subset['Content_lemmas'].apply(eval).tolist()\n",
    "\n",
    "inverted_index = {}\n",
    "\n",
    "for doc_id, lemmas in enumerate(content_lemmas_list):\n",
    "    term_freq = Counter(lemmas)\n",
    "    for term, freq in term_freq.items():\n",
    "        if term not in inverted_index:\n",
    "            inverted_index[term] = []\n",
    "        inverted_index[term].append({\"doc_id\": doc_id, \"freq\": freq})\n",
    "\n",
    "\n",
    "output_file_path = 'inverted_index.json'\n",
    "with open(output_file_path, 'w') as json_file:\n",
    "    json.dump(inverted_index, json_file)\n",
    "\n",
    "print(f'Inverted index with doc ID and term frequency created and stored in {output_file_path}')\n"
   ]
  },
  {
   "cell_type": "code",
   "execution_count": null,
   "metadata": {},
   "outputs": [],
   "source": [
    "import pandas as pd\n",
    "import json\n",
    "from collections import Counter\n",
    "\n",
    "\n",
    "csv_file_path = 'ProcessedData.csv'\n",
    "df = pd.read_csv(csv_file_path)\n",
    "\n",
    "\n",
    "df_subset = df.head(1000)\n",
    "\n",
    "\n",
    "content_lemmas_list = df_subset['Content_lemmas'].apply(eval).tolist()\n",
    "\n",
    "inverted_index = {}\n",
    "\n",
    "for doc_id, lemmas in enumerate(content_lemmas_list):\n",
    "    term_freq = Counter(lemmas)\n",
    "    for term, freq in term_freq.items():\n",
    "        if term not in inverted_index:\n",
    "            inverted_index[term] = []\n",
    "        inverted_index[term].append([doc_id, freq])\n",
    "\n",
    "\n",
    "output_file_path = 'inverted_index.json'\n",
    "with open(output_file_path, 'w') as json_file:\n",
    "    json.dump(inverted_index, json_file)\n",
    "\n",
    "print(f'Inverted index with array of arrays (doc ID and term frequency) created and stored in {output_file_path}')\n"
   ]
  }
 ],
 "metadata": {
  "kernelspec": {
   "display_name": "base",
   "language": "python",
   "name": "python3"
  },
  "language_info": {
   "codemirror_mode": {
    "name": "ipython",
    "version": 3
   },
   "file_extension": ".py",
   "mimetype": "text/x-python",
   "name": "python",
   "nbconvert_exporter": "python",
   "pygments_lexer": "ipython3",
   "version": "3.11.4"
  }
 },
 "nbformat": 4,
 "nbformat_minor": 2
}
