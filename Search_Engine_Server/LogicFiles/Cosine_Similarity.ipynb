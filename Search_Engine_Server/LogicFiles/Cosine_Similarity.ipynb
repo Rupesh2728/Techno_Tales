{
 "cells": [
  {
   "cell_type": "code",
   "execution_count": 2,
   "metadata": {},
   "outputs": [],
   "source": [
    "import json\n",
    "import math\n",
    "from collections import defaultdict\n",
    "\n",
    "\n",
    "inverted_index_file_path = './IRDataset/JsonFiles/inverted_index.json'\n",
    "idf_file_path = './IRDataset/JsonFiles/idf_values.json'\n",
    "doc_id_mapper_path = './IRDataset/JsonFiles/docId_mapper.json'\n",
    "doc_vectors_file_path = './IRDataset/JsonFiles/doc_vectors.json'\n",
    "\n",
    "with open(inverted_index_file_path, 'r') as json_file:\n",
    "    inverted_index = json.load(json_file)\n",
    "\n",
    "with open(idf_file_path, 'r') as json_file:\n",
    "    idf_values = json.load(json_file)\n",
    "\n",
    "with open(doc_id_mapper_path, 'r') as json_file:\n",
    "    doc_id_mapper = json.load(json_file)\n",
    "\n",
    "with open(doc_vectors_file_path, 'r') as json_file:\n",
    "    doc_vectors = json.load(json_file)"
   ]
  },
  {
   "cell_type": "code",
   "execution_count": 3,
   "metadata": {},
   "outputs": [],
   "source": [
    "import spacy\n",
    "from collections import Counter\n",
    "\n",
    "nlp = spacy.load(\"en_core_web_sm\")\n",
    "\n",
    "\n",
    "def process_query(query):\n",
    "    query = query.lower().strip()\n",
    "    doc = nlp(query)\n",
    "    query_tokens = [token.lemma_ for token in doc if not token.is_stop and token.is_alpha]\n",
    "    return query_tokens\n",
    "\n",
    "\n",
    "def build_query_vector(query_tokens, idf_values):\n",
    "    query_vector = {}\n",
    "    max_term_freq = max(Counter(query_tokens).values(), default=1)\n",
    "    \n",
    "    for term in set(query_tokens):\n",
    "        tf = Counter(query_tokens)[term] / max_term_freq\n",
    "        idf = idf_values.get(term, 0)\n",
    "        query_vector[term] = tf * idf\n",
    "    \n",
    "    return query_vector\n",
    "\n",
    "def cosine_similarity(query_vector, doc_vector):\n",
    "    dot_product = sum(query_vector[term] * doc_vector.get(term, 0) for term in set(query_vector) & set(doc_vector))\n",
    "    query_norm = math.sqrt(sum(weight**2 for weight in query_vector.values()))\n",
    "    doc_norm = math.sqrt(sum(weight**2 for weight in doc_vector.values()))\n",
    "    \n",
    "    if query_norm == 0 or doc_norm == 0:\n",
    "        return 0  \n",
    "    \n",
    "    similarity = dot_product / (query_norm * doc_norm)\n",
    "    return similarity"
   ]
  },
  {
   "cell_type": "code",
   "execution_count": 4,
   "metadata": {},
   "outputs": [
    {
     "name": "stdout",
     "output_type": "stream",
     "text": [
      "Top 10 Document IDs stored in ./IRDataset/JsonFiles/query_results.json\n"
     ]
    }
   ],
   "source": [
    "\n",
    "\n",
    "\n",
    "user_query = \"Latest Technology updates in Amazon\"\n",
    "processed_query = process_query(user_query)\n",
    "query_vector = build_query_vector(processed_query, idf_values)\n",
    "\n",
    "\n",
    "document_scores = {}\n",
    "\n",
    "for doc_id, doc_vector in doc_vectors.items():\n",
    "    similarity = cosine_similarity(query_vector, doc_vector)\n",
    "    document_scores[doc_id] = similarity\n",
    "\n",
    "\n",
    "ranked_docs = sorted(document_scores.items(), key=lambda x: x[1], reverse=True)\n",
    "\n",
    "\n",
    "top_10_document_ids = [doc_id for doc_id, _ in ranked_docs[:10]]\n",
    "\n",
    "results_file_path = './IRDataset/JsonFiles/query_results.json'\n",
    "with open(results_file_path, 'w') as results_file:\n",
    "    json.dump(top_10_document_ids, results_file, indent=2)\n",
    "\n",
    "print(f'Top 10 Document IDs stored in {results_file_path}')\n"
   ]
  },
  {
   "cell_type": "code",
   "execution_count": 59,
   "metadata": {},
   "outputs": [],
   "source": []
  },
  {
   "cell_type": "code",
   "execution_count": 5,
   "metadata": {},
   "outputs": [],
   "source": [
    "\n",
    "import json\n",
    "\n",
    "def extract_details_from_mapper(query_results_file, doc_mapper_file, output_file):\n",
    " \n",
    "    with open(query_results_file, 'r') as results_file:\n",
    "        doc_ids = json.load(results_file)\n",
    "\n",
    "   \n",
    "    with open(doc_mapper_file, 'r') as mapper_file:\n",
    "        doc_mapper = json.load(mapper_file)\n",
    "\n",
    "  \n",
    "    details = {}\n",
    "\n",
    "    for doc_id in doc_ids:\n",
    "        try:\n",
    "            doc_info = doc_mapper[str(doc_id)]\n",
    "            url = doc_info.get('URL')\n",
    "            title = doc_info.get('Title')\n",
    "            small_content = doc_info.get('First_10_Words')\n",
    "            \n",
    "            details[str(doc_id)] = {\n",
    "                \"URL\": url,\n",
    "                \"Title\": title,\n",
    "                \"First_10_Words\": small_content\n",
    "            }\n",
    "        except KeyError:\n",
    "            print(f\"Warning: No entry found for docId {doc_id} in the docId_mapper.json file.\")\n",
    "\n",
    "  \n",
    "    output_data = {\"query\": \"\", \"details\": details}\n",
    "    with open(output_file, 'w') as output_json:\n",
    "        json.dump(output_data, output_json, indent=2)\n",
    "\n",
    "\n",
    "query_results_file_path = './IRDataset/JsonFiles/query_results.json'\n",
    "doc_mapper_file_path = './IRDataset/JsonFiles/docId_mapper.json'\n",
    "output_file_path = './IRDataset/JsonFiles/output.json'\n",
    "\n",
    "extract_details_from_mapper(query_results_file_path, doc_mapper_file_path, output_file_path)\n"
   ]
  },
  {
   "cell_type": "code",
   "execution_count": null,
   "metadata": {},
   "outputs": [],
   "source": [
    "\n"
   ]
  }
 ],
 "metadata": {
  "kernelspec": {
   "display_name": "Python 3",
   "language": "python",
   "name": "python3"
  },
  "language_info": {
   "codemirror_mode": {
    "name": "ipython",
    "version": 3
   },
   "file_extension": ".py",
   "mimetype": "text/x-python",
   "name": "python",
   "nbconvert_exporter": "python",
   "pygments_lexer": "ipython3",
   "version": "3.10.12"
  }
 },
 "nbformat": 4,
 "nbformat_minor": 2
}
