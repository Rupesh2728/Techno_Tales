{
 "cells": [
  {
   "cell_type": "code",
   "execution_count": 1,
   "metadata": {},
   "outputs": [
    {
     "name": "stdout",
     "output_type": "stream",
     "text": [
      "IDF values calculated and stored in ./IRDataset/JsonFiles/idf_values.json\n"
     ]
    }
   ],
   "source": [
    "import math\n",
    "import json\n",
    "\n",
    "\n",
    "inverted_index_file_path = './IRDataset/JsonFiles/inverted_index.json'\n",
    "with open(inverted_index_file_path, 'r') as json_file:\n",
    "    inverted_index = json.load(json_file)\n",
    "\n",
    "total_documents = len(set(entry[0] for postings in inverted_index.values() for entry in postings))\n",
    "idf_values = {}\n",
    "\n",
    "for term, posting_list in inverted_index.items():\n",
    "    doc_frequency = len(posting_list)\n",
    "    idf_values[term] = math.log10(total_documents / (1 + doc_frequency))\n",
    "\n",
    "\n",
    "idf_file_path = './IRDataset/JsonFiles/idf_values.json'\n",
    "with open(idf_file_path, 'w') as idf_file:\n",
    "    json.dump(idf_values, idf_file)\n",
    "\n",
    "print(f'IDF values calculated and stored in {idf_file_path}')\n"
   ]
  },
  {
   "cell_type": "code",
   "execution_count": null,
   "metadata": {},
   "outputs": [],
   "source": []
  }
 ],
 "metadata": {
  "kernelspec": {
   "display_name": "Python 3",
   "language": "python",
   "name": "python3"
  },
  "language_info": {
   "codemirror_mode": {
    "name": "ipython",
    "version": 3
   },
   "file_extension": ".py",
   "mimetype": "text/x-python",
   "name": "python",
   "nbconvert_exporter": "python",
   "pygments_lexer": "ipython3",
   "version": "3.10.12"
  }
 },
 "nbformat": 4,
 "nbformat_minor": 2
}
